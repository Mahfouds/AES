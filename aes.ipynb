{
 "cells": [
  {
   "cell_type": "code",
   "execution_count": 1,
   "metadata": {},
   "outputs": [],
   "source": [
    "def hex_to_int(state):\n",
    "    # Convert a state of hexadecimal strings to integers\n",
    "    int_state = []\n",
    "    for row in state:\n",
    "        int_row = []\n",
    "        for hex_val in row:\n",
    "            int_val = int(hex_val, 16)\n",
    "            int_row.append(int_val)\n",
    "        int_state.append(int_row)\n",
    "    return int_state\n"
   ]
  },
  {
   "cell_type": "code",
   "execution_count": 2,
   "metadata": {},
   "outputs": [],
   "source": [
    "def get_inv_sbox():\n",
    "    return [\n",
    "            0x52, 0x09, 0x6A, 0xD5, 0x30, 0x36, 0xA5, 0x38, 0xBF, 0x40, 0xA3, 0x9E, 0x81, 0xF3, 0xD7, 0xFB,\n",
    "            0x7C, 0xE3, 0x39, 0x82, 0x9B, 0x2F, 0xFF, 0x87, 0x34, 0x8E, 0x43, 0x44, 0xC4, 0xDE, 0xE9, 0xCB,\n",
    "            0x54, 0x7B, 0x94, 0x32, 0xA6, 0xC2, 0x23, 0x3D, 0xEE, 0x4C, 0x95, 0x0B, 0x42, 0xFA, 0xC3, 0x4E,\n",
    "            0x08, 0x2E, 0xA1, 0x66, 0x28, 0xD9, 0x24, 0xB2, 0x76, 0x5B, 0xA2, 0x49, 0x6D, 0x8B, 0xD1, 0x25,\n",
    "            0x72, 0xF8, 0xF6, 0x64, 0x86, 0x68, 0x98, 0x16, 0xD4, 0xA4, 0x5C, 0xCC, 0x5D, 0x65, 0xB6, 0x92,\n",
    "            0x6C, 0x70, 0x48, 0x50, 0xFD, 0xED, 0xB9, 0xDA, 0x5E, 0x15, 0x46, 0x57, 0xA7, 0x8D, 0x9D, 0x84,\n",
    "            0x90, 0xD8, 0xAB, 0x00, 0x8C, 0xBC, 0xD3, 0x0A, 0xF7, 0xE4, 0x58, 0x05, 0xB8, 0xB3, 0x45, 0x06,\n",
    "            0xD0, 0x2C, 0x1E, 0x8F, 0xCA, 0x3F, 0x0F, 0x02, 0xC1, 0xAF, 0xBD, 0x03, 0x01, 0x13, 0x8A, 0x6B,\n",
    "            0x3A, 0x91, 0x11, 0x41, 0x4F, 0x67, 0xDC, 0xEA, 0x97, 0xF2, 0xCF, 0xCE, 0xF0, 0xB4, 0xE6, 0x73,\n",
    "            0x96, 0xAC, 0x74, 0x22, 0xE7, 0xAD, 0x35, 0x85, 0xE2, 0xF9, 0x37, 0xE8, 0x1C, 0x75, 0xDF, 0x6E,\n",
    "            0x47, 0xF1, 0x1A, 0x71, 0x1D, 0x29, 0xC5, 0x89, 0x6F, 0xB7, 0x62, 0x0E, 0xAA, 0x18, 0xBE, 0x1B,\n",
    "            0xFC, 0x56, 0x3E, 0x4B, 0xC6, 0xD2, 0x79, 0x20, 0x9A, 0xDB, 0xC0, 0xFE, 0x78, 0xCD, 0x5A, 0xF4,\n",
    "            0x1F, 0xDD, 0xA8, 0x33, 0x88, 0x07, 0xC7, 0x31, 0xB1, 0x12, 0x10, 0x59, 0x27, 0x80, 0xEC, 0x5F,\n",
    "            0x60, 0x51, 0x7F, 0xA9, 0x19, 0xB5, 0x4A, 0x0D, 0x2D, 0xE5, 0x7A, 0x9F, 0x93, 0xC9, 0x9C, 0xEF,\n",
    "            0xA0, 0xE0, 0x3B, 0x4D, 0xAE, 0x2A, 0xF5, 0xB0, 0xC8, 0xEB, 0xBB, 0x3C, 0x83, 0x53, 0x99, 0x61,\n",
    "            0x17, 0x2B, 0x04, 0x7E, 0xBA, 0x77, 0xD6, 0x26, 0xE1, 0x69, 0x14, 0x63, 0x55, 0x21, 0x0C, 0x7D\n",
    "    ]"
   ]
  },
  {
   "cell_type": "code",
   "execution_count": 3,
   "metadata": {},
   "outputs": [],
   "source": [
    "def xor(s1, s2):\n",
    "    return tuple(a^b for a,b in zip(s1, s2))"
   ]
  },
  {
   "cell_type": "code",
   "execution_count": 4,
   "metadata": {},
   "outputs": [
    {
     "data": {
      "text/plain": [
       "b'This is a messag'"
      ]
     },
     "execution_count": 4,
     "metadata": {},
     "output_type": "execute_result"
    }
   ],
   "source": [
    "def bytes_to_matrix(byte_str):\n",
    "    \"\"\"\n",
    "    Converts a 16-byte string of characters to a 4x4 state matrix.\n",
    "    \"\"\"\n",
    "    matrix = []\n",
    "    for i in range(4):\n",
    "        row = []\n",
    "        for j in range(4):\n",
    "            byte = byte_str[i + 4*j]\n",
    "            row.append(byte)\n",
    "        matrix.append(row)\n",
    "    return matrix\n",
    "\n",
    "def matrix_to_bytes(matrix):\n",
    "    \"\"\"\n",
    "    Converts a 4x4 state matrix to a 16-byte string of characters.\n",
    "    \"\"\"\n",
    "    byte_str = b''\n",
    "    for j in range(4):\n",
    "        for i in range(4):\n",
    "            byte_str += bytes([matrix[i][j]])\n",
    "    return byte_str\n",
    "\n",
    "\n",
    "matrix_to_bytes([[84, 32, 97, 115], [104, 105, 32, 115], [105, 115, 109, 97], [115, 32, 101, 103]])\n"
   ]
  },
  {
   "cell_type": "code",
   "execution_count": 5,
   "metadata": {},
   "outputs": [],
   "source": [
    "def getSbox():\n",
    "    return [\n",
    "            0x63, 0x7C, 0x77, 0x7B, 0xF2, 0x6B, 0x6F, 0xC5, 0x30, 0x01, 0x67, 0x2B, 0xFE, 0xD7, 0xAB, 0x76,\n",
    "            0xCA, 0x82, 0xC9, 0x7D, 0xFA, 0x59, 0x47, 0xF0, 0xAD, 0xD4, 0xA2, 0xAF, 0x9C, 0xA4, 0x72, 0xC0,\n",
    "            0xB7, 0xFD, 0x93, 0x26, 0x36, 0x3F, 0xF7, 0xCC, 0x34, 0xA5, 0xE5, 0xF1, 0x71, 0xD8, 0x31, 0x15,\n",
    "            0x04, 0xC7, 0x23, 0xC3, 0x18, 0x96, 0x05, 0x9A, 0x07, 0x12, 0x80, 0xE2, 0xEB, 0x27, 0xB2, 0x75,\n",
    "            0x09, 0x83, 0x2C, 0x1A, 0x1B, 0x6E, 0x5A, 0xA0, 0x52, 0x3B, 0xD6, 0xB3, 0x29, 0xE3, 0x2F, 0x84,\n",
    "            0x53, 0xD1, 0x00, 0xED, 0x20, 0xFC, 0xB1, 0x5B, 0x6A, 0xCB, 0xBE, 0x39, 0x4A, 0x4C, 0x58, 0xCF,\n",
    "            0xD0, 0xEF, 0xAA, 0xFB, 0x43, 0x4D, 0x33, 0x85, 0x45, 0xF9, 0x02, 0x7F, 0x50, 0x3C, 0x9F, 0xA8,\n",
    "            0x51, 0xA3, 0x40, 0x8F, 0x92, 0x9D, 0x38, 0xF5, 0xBC, 0xB6, 0xDA, 0x21, 0x10, 0xFF, 0xF3, 0xD2,\n",
    "            0xCD, 0x0C, 0x13, 0xEC, 0x5F, 0x97, 0x44, 0x17, 0xC4, 0xA7, 0x7E, 0x3D, 0x64, 0x5D, 0x19, 0x73,\n",
    "            0x60, 0x81, 0x4F, 0xDC, 0x22, 0x2A, 0x90, 0x88, 0x46, 0xEE, 0xB8, 0x14, 0xDE, 0x5E, 0x0B, 0xDB,\n",
    "            0xE0, 0x32, 0x3A, 0x0A, 0x49, 0x06, 0x24, 0x5C, 0xC2, 0xD3, 0xAC, 0x62, 0x91, 0x95, 0xE4, 0x79,\n",
    "            0xE7, 0xC8, 0x37, 0x6D, 0x8D, 0xD5, 0x4E, 0xA9, 0x6C, 0x56, 0xF4, 0xEA, 0x65, 0x7A, 0xAE, 0x08,\n",
    "            0xBA, 0x78, 0x25, 0x2E, 0x1C, 0xA6, 0xB4, 0xC6, 0xE8, 0xDD, 0x74, 0x1F, 0x4B, 0xBD, 0x8B, 0x8A,\n",
    "            0x70, 0x3E, 0xB5, 0x66, 0x48, 0x03, 0xF6, 0x0E, 0x61, 0x35, 0x57, 0xB9, 0x86, 0xC1, 0x1D, 0x9E,\n",
    "            0xE1, 0xF8, 0x98, 0x11, 0x69, 0xD9, 0x8E, 0x94, 0x9B, 0x1E, 0x87, 0xE9, 0xCE, 0x55, 0x28, 0xDF,\n",
    "            0x8C, 0xA1, 0x89, 0x0D, 0xBF, 0xE6, 0x42, 0x68, 0x41, 0x99, 0x2D, 0x0F, 0xB0, 0x54, 0xBB, 0x16\n",
    "    ]\n",
    "    \n"
   ]
  },
  {
   "cell_type": "code",
   "execution_count": 6,
   "metadata": {},
   "outputs": [],
   "source": [
    "def subByte(state):\n",
    "    \"\"\"\n",
    "    Substitutes each byte in a 4x4 state matrix using an S-box.\n",
    "    \"\"\"\n",
    "    sbox = getSbox()\n",
    "    new_state = [[0 for j in range(4)] for i in range(4)]\n",
    "    for i in range(4):\n",
    "        for j in range(4):\n",
    "            new_state[i][j] = sbox[state[i][j]%256]\n",
    "    return new_state\n",
    "\n"
   ]
  },
  {
   "cell_type": "code",
   "execution_count": 7,
   "metadata": {},
   "outputs": [
    {
     "name": "stdout",
     "output_type": "stream",
     "text": [
      "[[84, 32, 97, 115], [104, 105, 32, 115], [105, 115, 109, 97], [115, 32, 101, 103]]\n",
      "\n"
     ]
    },
    {
     "data": {
      "text/plain": [
       "[[84, 32, 97, 115],\n",
       " [105, 32, 115, 104],\n",
       " [109, 97, 105, 115],\n",
       " [103, 115, 32, 101]]"
      ]
     },
     "execution_count": 7,
     "metadata": {},
     "output_type": "execute_result"
    }
   ],
   "source": [
    "def shiftRows(state):\n",
    "    for i in range(1, 4):\n",
    "        state[i] = state[i][i:] + state[i][:i]\n",
    "    return state\n",
    "message = b'This is a message'\n",
    "state = bytes_to_matrix(message)\n",
    "print(state)\n",
    "print()\n",
    "shiftRows(state)\n"
   ]
  },
  {
   "cell_type": "code",
   "execution_count": 8,
   "metadata": {},
   "outputs": [
    {
     "name": "stdout",
     "output_type": "stream",
     "text": [
      "21\n",
      "0x15\n",
      "<class 'int'>\n"
     ]
    }
   ],
   "source": [
    "def mul(a, b):\n",
    "    # Multiply two numbers in GF(2^8)\n",
    "    p = 0\n",
    "    for i in range(8):\n",
    "        if b & 1:\n",
    "            p ^= a\n",
    "        hi_bit_set = a & 0x80\n",
    "        a <<= 1\n",
    "        if hi_bit_set:\n",
    "            a ^= 0x1b\n",
    "        b >>= 1\n",
    "    return p % 256\n",
    "        \n",
    "\n",
    "a = 0x02\n",
    "b = 0x87\n",
    "\n",
    "state = [[0x87, 0xf2, 0x4d, 97], [0x6e,0x4c, 90, 0xec], [46, 0xe7, 0x4a,0xc3], [0xa6,0x8c, 0xd8,95]]\n",
    "result = mul(a, state[0][0])\n",
    "print(result) # Output: 0xc1\n",
    "print(hex(result))\n",
    "print(type(result))\n",
    "\n",
    "\n"
   ]
  },
  {
   "cell_type": "code",
   "execution_count": 9,
   "metadata": {},
   "outputs": [
    {
     "name": "stdout",
     "output_type": "stream",
     "text": [
      "[['0x47', '0x40', '0xa3', '0x4c'], ['0x37', '0xd4', '0x70', '0x9f'], ['0x94', '0xe4', '0x3a', '0x42'], ['0xed', '0xa5', '0xa6', '0xbc']]\n"
     ]
    },
    {
     "data": {
      "text/plain": [
       "[['0x94', '0x40', '0xe6', '0x71'],\n",
       " ['0x5f', '0xd4', '0xff', '0xa3'],\n",
       " ['0x94', '0xe4', '0xf0', '0xf1'],\n",
       " ['0xee', '0xa5', '0x6c', '0x32']]"
      ]
     },
     "execution_count": 9,
     "metadata": {},
     "output_type": "execute_result"
    }
   ],
   "source": [
    "\n",
    "from typing import List\n",
    "\n",
    "def transpose_state(state):\n",
    "    # Transpose a 4x4 state matrix\n",
    "    transposed_state = []\n",
    "    for i in range(4):\n",
    "        column = []\n",
    "        for j in range(4):\n",
    "            column.append(state[j][i])\n",
    "        transposed_state.append(column)\n",
    "    return transposed_state\n",
    "\n",
    "def mix_columns(state: List[List[int]]) -> List[List[int]]:\n",
    "    \"\"\"\n",
    "    Applies the MixColumns function to the state matrix for encryption.\n",
    "    \"\"\"\n",
    "    mixed_state = []\n",
    "    for i in range(4):\n",
    "        col = [state[j][i] for j in range(4)]\n",
    "        mixed_col = [\n",
    "            (hex(mul(0x2,col[0]) ^ mul(0x3, col[1]) ^ col[2] ^ col[3])),\n",
    "            (hex(col[0] ^ mul(2, col[1]) ^ mul(3, col[2]) ^ col[3])),\n",
    "            (hex(col[0] ^ col[1] ^ mul(2, col[2]) ^ mul(3, col[3]))),\n",
    "            (hex(mul(3, col[0]) ^ col[1] ^ col[2] ^ mul(2, col[3])))\n",
    "        ]\n",
    "        mixed_state.append(mixed_col)\n",
    "\n",
    "    return transpose_state(mixed_state)\n",
    "\n",
    "message = b'This is a message'\n",
    "state = [[0x87, 0xf2, 0x4d, 0x97], [0x6e,0x4c, 0x90, 0xec], [0x46, 0xe7, 0x4a,0xc3], [0xa6,0x8c, 0xd8,0x95]]\n",
    "# Apply the MixColumns operation to the state matrix\n",
    "mixed_state = mix_columns(state)\n",
    "\n",
    "# Print the mixed state matrix\n",
    "print(mixed_state)\n",
    "\n",
    "state=[[87, 0xf2, 0x4d, 97], [0x6e,0x4c, 90, 0xec], [46, 0xe7, 0x4a,0xc3], [0xa6,0x8c,0xd8,95]]\n",
    "mix_columns(state)\n",
    "\n",
    "\n"
   ]
  },
  {
   "cell_type": "code",
   "execution_count": 10,
   "metadata": {},
   "outputs": [
    {
     "name": "stdout",
     "output_type": "stream",
     "text": [
      "[[235, 89, 139, 27], [64, 46, 161, 195], [242, 56, 19, 66], [30, 132, 231, 214]]\n"
     ]
    }
   ],
   "source": [
    "\n",
    "def add_round_key(state, round_key):\n",
    "    \"\"\"\n",
    "    XORs the state matrix with the round key matrix.\n",
    "    \"\"\"\n",
    "    for i in range(4):\n",
    "        for j in range(4):\n",
    "            state[i][j] = hex(state[i][j]^round_key[i][j] %256)\n",
    "    return state\n",
    "state = [    [0x47, 0x40, 0xa3, 0x4c],\n",
    "    [0x37, 0xd4, 0x70, 0x9f],\n",
    "    [0x94, 0xe4, 0x3a, 0x42],\n",
    "    [0xed, 0xa5, 0xa6, 0xbc]\n",
    "]\n",
    "round_key = [[0xac, 0x19, 0x28, 0x57], [0x77,0xfa,0xd1,0x5c], [0x166, 0xdc, 0x29, 00], [0xf3,0x21,0x41,0x6a]]\n",
    "\n",
    "result = add_round_key(state, round_key)\n",
    "print(hex_to_int(result))\n",
    "\n"
   ]
  },
  {
   "attachments": {},
   "cell_type": "markdown",
   "metadata": {},
   "source": [
    "Key expansion\n"
   ]
  },
  {
   "cell_type": "code",
   "execution_count": 11,
   "metadata": {},
   "outputs": [],
   "source": [
    "\n",
    "sbox = [0x63, 0x7c, 0x77, 0x7b, 0xf2, 0x6b, 0x6f, 0xc5, 0x30, 0x01, 0x67, 0x2b, 0xfe, 0xd7, 0xab, 0x76,\n",
    "\t\t0xca, 0x82, 0xc9, 0x7d, 0xfa, 0x59, 0x47, 0xf0, 0xad, 0xd4, 0xa2, 0xaf, 0x9c, 0xa4, 0x72, 0xc0,\n",
    "\t\t0xb7, 0xfd, 0x93, 0x26, 0x36, 0x3f, 0xf7, 0xcc, 0x34, 0xa5, 0xe5, 0xf1, 0x71, 0xd8, 0x31, 0x15,\n",
    "\t\t0x04, 0xc7, 0x23, 0xc3, 0x18, 0x96, 0x05, 0x9a, 0x07, 0x12, 0x80, 0xe2, 0xeb, 0x27, 0xb2, 0x75,\n",
    "\t\t0x09, 0x83, 0x2c, 0x1a, 0x1b, 0x6e, 0x5a, 0xa0, 0x52, 0x3b, 0xd6, 0xb3, 0x29, 0xe3, 0x2f, 0x84,\n",
    "\t\t0x53, 0xd1, 0x00, 0xed, 0x20, 0xfc, 0xb1, 0x5b, 0x6a, 0xcb, 0xbe, 0x39, 0x4a, 0x4c, 0x58, 0xcf,\n",
    "\t\t0xd0, 0xef, 0xaa, 0xfb, 0x43, 0x4d, 0x33, 0x85, 0x45, 0xf9, 0x02, 0x7f, 0x50, 0x3c, 0x9f, 0xa8,\n",
    "\t\t0x51, 0xa3, 0x40, 0x8f, 0x92, 0x9d, 0x38, 0xf5, 0xbc, 0xb6, 0xda, 0x21, 0x10, 0xff, 0xf3, 0xd2,\n",
    "\t\t0xcd, 0x0c, 0x13, 0xec, 0x5f, 0x97, 0x44, 0x17, 0xc4, 0xa7, 0x7e, 0x3d, 0x64, 0x5d, 0x19, 0x73,\n",
    "\t\t0x60, 0x81, 0x4f, 0xdc, 0x22, 0x2a, 0x90, 0x88, 0x46, 0xee, 0xb8, 0x14, 0xde, 0x5e, 0x0b, 0xdb,\n",
    "\t\t0xe0, 0x32, 0x3a, 0x0a, 0x49, 0x06, 0x24, 0x5c, 0xc2, 0xd3, 0xac, 0x62, 0x91, 0x95, 0xe4, 0x79,\n",
    "\t\t0xe7, 0xc8, 0x37, 0x6d, 0x8d, 0xd5, 0x4e, 0xa9, 0x6c, 0x56, 0xf4, 0xea, 0x65, 0x7a, 0xae, 0x08,\n",
    "\t\t0xba, 0x78, 0x25, 0x2e, 0x1c, 0xa6, 0xb4, 0xc6, 0xe8, 0xdd, 0x74, 0x1f, 0x4b, 0xbd, 0x8b, 0x8a,\n",
    "\t\t0x70, 0x3e, 0xb5, 0x66, 0x48, 0x03, 0xf6, 0x0e, 0x61, 0x35, 0x57, 0xb9, 0x86, 0xc1, 0x1d, 0x9e,\n",
    "\t\t0xe1, 0xf8, 0x98, 0x11, 0x69, 0xd9, 0x8e, 0x94, 0x9b, 0x1e, 0x87, 0xe9, 0xce, 0x55, 0x28, 0xdf,\n",
    "\t\t0x8c, 0xa1, 0x89, 0x0d, 0xbf, 0xe6, 0x42, 0x68, 0x41, 0x99, 0x2d, 0x0f, 0xb0, 0x54, 0xbb, 0x16]\n",
    "\n",
    "Rcon = [0x00000000, 0x01000000, 0x02000000,\n",
    "\t\t0x04000000, 0x08000000, 0x10000000,\n",
    "\t\t0x20000000, 0x40000000, 0x80000000,\n",
    "\t\t0x1b000000, 0x36000000]\n",
    "\n",
    "def keyExpansionn(key):\n",
    "\t#prep w list to hold 44 tuples\n",
    "\tw = [()]*44\n",
    "\t#fill out first 4 words based on the key\n",
    "\tfor i in range(4):\n",
    "\t\tw[i] = (key[4*i], key[4*i+1], key[4*i+2], key[4*i+3])\n",
    "\n",
    "\tfor i in range(4, 44):\n",
    "\t\t#get required previous keywords\n",
    "\t\ttemp = w[i-1]\n",
    "\t\tword = w[i-4]\n",
    "\n",
    "\t\t#if multiple of 4 use rot, sub, rcon etc\n",
    "\t\tif i % 4 == 0:\n",
    "\t\t\tx = RotWord(temp)\n",
    "\t\t\ty = SubWord(x)\n",
    "\t\t\trcon = Rcon[int(i/4)]\n",
    "\n",
    "\t\t\ttemp = hexor(y, hex(rcon)[2:])\n",
    "\n",
    "\t\t#creating strings of hex rather than tuple\n",
    "\t\tword = ''.join(word)\n",
    "\t\ttemp = ''.join(temp)\n",
    "\t\t#xor the two hex values\n",
    "\t\txord = hexor(word, temp)\n",
    "\t\tw[i] = (xord[:2], xord[2:4], xord[4:6], xord[6:8])\n",
    "\n",
    "\treturn w\n",
    "\n",
    "#takes two hex values and calculates hex1 xor hex2\n",
    "def hexor(hex1, hex2):\n",
    "\t#convert to binary\n",
    "\tbin1 = hex2binary(hex1)\n",
    "\tbin2 = hex2binary(hex2)\n",
    "\n",
    "\t#calculate\n",
    "\txord = int(bin1, 2) ^ int(bin2, 2)\n",
    "\n",
    "\t#cut prefix\n",
    "\thexed = hex(xord)[2:]\n",
    "\n",
    "\t#leading 0s get cut above, if not length 8 add a leading 0\n",
    "\tif len(hexed) != 8:\n",
    "\t\thexed = '0' + hexed\n",
    "\n",
    "\treturn hexed\n",
    "\n",
    "#takes a hex value and returns binary\n",
    "def hex2binary(hex):\n",
    "\treturn bin(int(str(hex), 16))\n",
    "\n",
    "\n",
    "#takes from 1 to the end, adds on from the start to 1\n",
    "def RotWord(word):\n",
    "\treturn word[1:] + word[:1]\n",
    "\n",
    "\n",
    "#selects correct value from sbox based on the current word\n",
    "def SubWord(word):\n",
    "\tsWord = ()\n",
    "\tfor i in range(4):\n",
    "\t\tif word[i][0].isdigit() == False:\n",
    "\t\t\trow = ord(word[i][0]) - 86\n",
    "\t\telse:\n",
    "\t\t\trow = int(word[i][0])+1\n",
    "\n",
    "\t\t#repeat above for the seoncd char\n",
    "\t\tif word[i][1].isdigit() == False:\n",
    "\t\t\tcol = ord(word[i][1]) - 86\n",
    "\t\telse:\n",
    "\t\t\tcol = int(word[i][1])+1\n",
    "\n",
    "\t\t#get the index base on row and col (16x16 grid)\n",
    "\t\tsBoxIndex = (row*16) - (17-col)\n",
    "\n",
    "\t\t#get the value from sbox without prefix\n",
    "\t\tpiece = hex(sbox[sBoxIndex])[2:]\n",
    "\n",
    "\t\tif len(piece) != 2:\n",
    "\t\t\tpiece = '0' + piece\n",
    "\t\tsWord = (*sWord, piece)\n",
    "\treturn ''.join(sWord)\n"
   ]
  },
  {
   "cell_type": "code",
   "execution_count": 12,
   "metadata": {},
   "outputs": [],
   "source": [
    "def group_matrix(matrix):\n",
    "    submatrices = []\n",
    "    for i in range(0, len(matrix), 4):\n",
    "        for j in range(0, len(matrix[0]), 4):\n",
    "            submatrix = []\n",
    "            for k in range(4):\n",
    "                submatrix.append(matrix[i+k][j:j+4])\n",
    "            submatrices.append(hex_to_int(submatrix))\n",
    "    return submatrices"
   ]
  },
  {
   "cell_type": "code",
   "execution_count": 13,
   "metadata": {},
   "outputs": [
    {
     "name": "stdout",
     "output_type": "stream",
     "text": [
      "key : [('0f', '15', '71', 'c9'), ('47', 'd9', 'e8', '59'), ('0c', 'b7', 'ad', 'd6'), ('af', '7f', '67', '98'), ('dc', '90', '37', 'b0'), ('9b', '49', 'df', 'e9'), ('97', 'fe', '72', '3f'), ('38', '81', '15', 'a7'), ('d2', 'c9', '6b', 'b7'), ('49', '80', 'b4', '5e'), ('de', '7e', 'c6', '61'), ('e6', 'ff', 'd3', 'c6'), ('c0', 'af', 'df', '39'), ('89', '2f', '6b', '67'), ('57', '51', 'ad', '06'), ('b1', 'ae', '7e', 'c0'), ('2c', '5c', '65', 'f1'), ('a5', '73', '0e', '96'), ('f2', '22', 'a3', '90'), ('43', '8c', 'dd', '50'), ('58', '9d', '36', 'eb'), ('fd', 'ee', '38', '7d'), ('0f', 'cc', '9b', 'ed'), ('4c', '40', '46', 'bd'), ('71', 'c7', '4c', 'c2'), ('8c', '29', '74', 'bf'), ('83', 'e5', 'ef', '52'), ('cf', 'a5', 'a9', 'ef'), ('37', '14', '93', '48'), ('bb', '3d', 'e7', 'f7'), ('38', 'd8', '08', 'a5'), ('f7', '7d', 'a1', '4a'), ('48', '26', '45', '20'), ('f3', '1b', 'a2', 'd7'), ('cb', 'c3', 'aa', '72'), ('3c', 'be', '0b', '38'), ('fd', '0d', '42', 'cb'), ('0e', '16', 'e0', '1c'), ('c5', 'd5', '4a', '6e'), ('f9', '6b', '41', '56'), ('b4', '8e', 'f3', '52'), ('ba', '98', '13', '4e'), ('7f', '4d', '59', '20'), ('86', '26', '18', '76')]\n",
      "[[[15, 21, 113, 201], [71, 217, 232, 89], [12, 183, 173, 214], [175, 127, 103, 152]], [[220, 144, 55, 176], [155, 73, 223, 233], [151, 254, 114, 63], [56, 129, 21, 167]], [[210, 201, 107, 183], [73, 128, 180, 94], [222, 126, 198, 97], [230, 255, 211, 198]], [[192, 175, 223, 57], [137, 47, 107, 103], [87, 81, 173, 6], [177, 174, 126, 192]], [[44, 92, 101, 241], [165, 115, 14, 150], [242, 34, 163, 144], [67, 140, 221, 80]], [[88, 157, 54, 235], [253, 238, 56, 125], [15, 204, 155, 237], [76, 64, 70, 189]], [[113, 199, 76, 194], [140, 41, 116, 191], [131, 229, 239, 82], [207, 165, 169, 239]], [[55, 20, 147, 72], [187, 61, 231, 247], [56, 216, 8, 165], [247, 125, 161, 74]], [[72, 38, 69, 32], [243, 27, 162, 215], [203, 195, 170, 114], [60, 190, 11, 56]], [[253, 13, 66, 203], [14, 22, 224, 28], [197, 213, 74, 110], [249, 107, 65, 86]], [[180, 142, 243, 82], [186, 152, 19, 78], [127, 77, 89, 32], [134, 38, 24, 118]]]\n"
     ]
    },
    {
     "data": {
      "text/plain": [
       "[[15, 21, 113, 201],\n",
       " [71, 217, 232, 89],\n",
       " [12, 183, 173, 214],\n",
       " [175, 127, 103, 152],\n",
       " [220, 144, 55, 176],\n",
       " [155, 73, 223, 233],\n",
       " [151, 254, 114, 63],\n",
       " [56, 129, 21, 167],\n",
       " [210, 201, 107, 183],\n",
       " [73, 128, 180, 94],\n",
       " [222, 126, 198, 97],\n",
       " [230, 255, 211, 198],\n",
       " [192, 175, 223, 57],\n",
       " [137, 47, 107, 103],\n",
       " [87, 81, 173, 6],\n",
       " [177, 174, 126, 192],\n",
       " [44, 92, 101, 241],\n",
       " [165, 115, 14, 150],\n",
       " [242, 34, 163, 144],\n",
       " [67, 140, 221, 80],\n",
       " [88, 157, 54, 235],\n",
       " [253, 238, 56, 125],\n",
       " [15, 204, 155, 237],\n",
       " [76, 64, 70, 189],\n",
       " [113, 199, 76, 194],\n",
       " [140, 41, 116, 191],\n",
       " [131, 229, 239, 82],\n",
       " [207, 165, 169, 239],\n",
       " [55, 20, 147, 72],\n",
       " [187, 61, 231, 247],\n",
       " [56, 216, 8, 165],\n",
       " [247, 125, 161, 74],\n",
       " [72, 38, 69, 32],\n",
       " [243, 27, 162, 215],\n",
       " [203, 195, 170, 114],\n",
       " [60, 190, 11, 56],\n",
       " [253, 13, 66, 203],\n",
       " [14, 22, 224, 28],\n",
       " [197, 213, 74, 110],\n",
       " [249, 107, 65, 86],\n",
       " [180, 142, 243, 82],\n",
       " [186, 152, 19, 78],\n",
       " [127, 77, 89, 32],\n",
       " [134, 38, 24, 118]]"
      ]
     },
     "execution_count": 13,
     "metadata": {},
     "output_type": "execute_result"
    }
   ],
   "source": [
    "key = [\"0f\", \"15\", \"71\", \"c9\", \"47\", \"d9\", \"e8\", \"59\", \"0c\", \"b7\", \"ad\", \"d6\", \"af\", \"7f\", \"67\", \"98\"]\n",
    "print(f\"key : {keyExpansionn(key)}\")\n",
    "submatrices = group_matrix(keyExpansionn(key))\n",
    "print(submatrices)\n",
    "#print(hex_to_int(submatrices))\n",
    "hex_to_int(keyExpansionn(key))\n"
   ]
  },
  {
   "cell_type": "code",
   "execution_count": 14,
   "metadata": {},
   "outputs": [],
   "source": [
    "def aes_encrypt(state, key):\n",
    "    Nb = 4  # Number of columns in State and key matrix\n",
    "    Nk = len(key) // 4  # Number of columns in key matrix\n",
    "    #print(Nk)\n",
    "    Nr = Nk + 6  # Number of rounds\n",
    "\n",
    "    # Generate round keys using key expansion algorithm\n",
    "    round_keys = group_matrix(keyExpansionn(key))\n",
    "\n",
    "    # Add initial round key\n",
    "    #print(f\"round_keys[:Nb] : {round_keys[:Nb]}\")\n",
    "    state = hex_to_int(add_round_key(state, round_keys[0]))\n",
    "\n",
    "    # Main rounds\n",
    "    for r in range(1, Nr):\n",
    "        state = subByte(state)\n",
    "        state = shiftRows(state)\n",
    "        state = hex_to_int(mix_columns(state))\n",
    "        state = hex_to_int(add_round_key(state, round_keys[r]))\n",
    "\n",
    "    # Final round\n",
    "    state = subByte(state)\n",
    "    state = shiftRows(state)\n",
    "    state = hex_to_int(add_round_key(state, round_keys[Nr]))\n",
    "\n",
    "    return state\n"
   ]
  },
  {
   "attachments": {},
   "cell_type": "markdown",
   "metadata": {},
   "source": [
    "dechiffrement"
   ]
  },
  {
   "cell_type": "code",
   "execution_count": 15,
   "metadata": {},
   "outputs": [
    {
     "data": {
      "text/plain": [
       "b'This is a messag'"
      ]
     },
     "execution_count": 15,
     "metadata": {},
     "output_type": "execute_result"
    }
   ],
   "source": [
    "def inv_shift_rows(state):\n",
    "    for i in range(1, 4):\n",
    "        state[i] = state[i][-i:] + state[i][:-i]\n",
    "    return state\n",
    "state=[[84, 32, 97, 115],\n",
    " [105, 32, 115, 104],\n",
    " [109, 97, 105, 115],\n",
    " [103, 115, 32, 101]]\n",
    "matrix_to_bytes(inv_shift_rows(state))\n"
   ]
  },
  {
   "cell_type": "code",
   "execution_count": 16,
   "metadata": {},
   "outputs": [],
   "source": [
    "def getInvSbox():\n",
    "    \"\"\"\n",
    "    Generates the inverse S-box used for the AES decryption process.\n",
    "    \"\"\"\n",
    "    sbox = getSbox()\n",
    "    inv_sbox = [0] * 256\n",
    "    for i in range(256):\n",
    "        inv_sbox[sbox[i]] = i\n",
    "    return inv_sbox"
   ]
  },
  {
   "cell_type": "code",
   "execution_count": 17,
   "metadata": {},
   "outputs": [
    {
     "name": "stdout",
     "output_type": "stream",
     "text": [
      "True\n"
     ]
    }
   ],
   "source": [
    "def inv_sub_bytes(state):\n",
    "    \"\"\"\n",
    "    Substitutes each byte in a 4x4 state matrix using the inverse S-box.\n",
    "    \"\"\"\n",
    "    inv_sbox = getInvSbox()\n",
    "    new_state = [[0 for j in range(4)] for i in range(4)]\n",
    "    for i in range(4):\n",
    "        for j in range(4):\n",
    "            new_state[i][j] = inv_sbox[state[i][j]%256]\n",
    "    return new_state\n",
    "state = [[84, 32, 97, 115], [104, 105, 32, 115], [105, 115, 109, 97], [115, 32, 101, 103]]\n",
    "\n",
    "# Encrypt the state matrix\n",
    "encrypted_state = subByte(state)\n",
    "\n",
    "# Decrypt the encrypted state matrix\n",
    "decrypted_state = inv_sub_bytes(encrypted_state)\n",
    "\n",
    "# Verify that the decrypted state matrix matches the original state matrix\n",
    "print(decrypted_state == state) # should print True\n",
    "\n"
   ]
  },
  {
   "cell_type": "code",
   "execution_count": 18,
   "metadata": {},
   "outputs": [],
   "source": [
    "def mul_inv(a, b):\n",
    "    \"\"\"\n",
    "    Computes the inverse of the multiplication in the Galois field GF(2^8).\n",
    "    \"\"\"\n",
    "    p = 0\n",
    "    while b:\n",
    "        if b & 1:\n",
    "            p ^= a\n",
    "        if a & 0x80:\n",
    "            a = (a << 1) ^ 0x11b\n",
    "        else:\n",
    "            a <<= 1\n",
    "        b >>= 1\n",
    "    return p\n",
    "\n",
    "\n"
   ]
  },
  {
   "cell_type": "code",
   "execution_count": 19,
   "metadata": {},
   "outputs": [
    {
     "name": "stdout",
     "output_type": "stream",
     "text": [
      "[['0x47', '0x40', '0xa3', '0x4c'], ['0x37', '0xd4', '0x70', '0x9f'], ['0x94', '0xe4', '0x3a', '0x42'], ['0xed', '0xa5', '0xa6', '0xbc']]\n",
      "mixed : [[71, 64, 163, 76], [55, 212, 112, 159], [148, 228, 58, 66], [237, 165, 166, 188]]\n",
      "0xfa\n",
      "decrypted state : [[135, 242, 77, 151], [110, 76, 144, 236], [70, 231, 74, 195], [166, 140, 216, 149]]\n",
      "state : [[135, 242, 77, 151], [110, 76, 144, 236], [70, 231, 74, 195], [166, 140, 216, 149]]\n"
     ]
    }
   ],
   "source": [
    "def hex_to_int(state):\n",
    "    # Convert a state of hexadecimal strings to integers\n",
    "    int_state = []\n",
    "    for row in state:\n",
    "        int_row = []\n",
    "        for hex_val in row:\n",
    "            int_val = int(hex_val, 16)\n",
    "            int_row.append(int_val)\n",
    "        int_state.append(int_row)\n",
    "    return int_state\n",
    "\n",
    "def inv_mix_columns(state):\n",
    "    \"\"\"\n",
    "    Applies the inverse MixColumns function to the state matrix for decryption.\n",
    "    \"\"\"\n",
    "    inv_mixed_state = []\n",
    "    for i in range(4):\n",
    "        col = [state[j][i] for j in range(4)]\n",
    "        inv_mixed_col = [\n",
    "            (hex(mul(0x0e, col[0]) ^ mul(0x0b, col[1]) ^ mul(0x0d, col[2]) ^ mul(0x09, col[3]))),\n",
    "            (hex(mul(0x09, col[0]) ^ mul(0x0e, col[1]) ^ mul(0x0b, col[2]) ^ mul(0x0d, col[3]))),\n",
    "            (hex(mul(0x0d, col[0]) ^ mul(0x09, col[1]) ^ mul(0x0e, col[2]) ^ mul(0x0b, col[3]))),\n",
    "            (hex(mul(0x0b, col[0]) ^ mul(0x0d, col[1]) ^ mul(0x09, col[2]) ^ mul(0x0e, col[3])))\n",
    "        ]\n",
    "        inv_mixed_state.append(inv_mixed_col)\n",
    "    return transpose_state(inv_mixed_state)\n",
    "\n",
    "state = [[0x87, 0xf2, 0x4d, 0x97], [0x6e,0x4c, 0x90, 0xec], [0x46, 0xe7, 0x4a,0xc3], [0xa6,0x8c, 0xd8,0x95]]\n",
    "# Apply the MixColumns operation to the state matrix\n",
    "mixed_state = mix_columns(state)\n",
    "\n",
    "# Print the mixed state matrix\n",
    "print(mixed_state)\n",
    "# Decrypt the encrypted state matrix\n",
    "mixedd=hex_to_int(mixed_state)\n",
    "print(f\"mixed : {mixedd}\")\n",
    "decrypted_state = inv_mix_columns(mixedd)\n",
    "print(hex(mul(0xb,0x37)))\n",
    "print(f\"decrypted state : {hex_to_int(decrypted_state)}\")\n",
    "print(f\"state : {state}\")"
   ]
  },
  {
   "cell_type": "code",
   "execution_count": 20,
   "metadata": {},
   "outputs": [],
   "source": [
    "def aes_decrypt(state, key):\n",
    "    Nb = 4  # Number of columns in State and key matrix\n",
    "    Nk = len(key) // 4  # Number of columns in key matrix\n",
    " \n",
    "    Nr = Nk + 6  # Number of rounds\n",
    "\n",
    "    # Generate round keys using key expansion algorithm\n",
    "    round_keys = group_matrix(keyExpansionn(key))\n",
    "\n",
    "    # Add initial round key\n",
    "    \n",
    "    state = hex_to_int(add_round_key(state, round_keys[Nr]))\n",
    "\n",
    "# Inverse rounds\n",
    "    for r in range(Nr-1, 0, -1):\n",
    "        state = inv_shift_rows(state)\n",
    "        state = inv_sub_bytes(state)\n",
    "        state = hex_to_int(add_round_key(state, round_keys[r]))\n",
    "        state = hex_to_int(inv_mix_columns(state))\n",
    "        \n",
    "        \n",
    "    # Final round\n",
    "    state = inv_sub_bytes(state)\n",
    "    state = inv_shift_rows(state)\n",
    "    state = hex_to_int(add_round_key(state, round_keys[0]))\n",
    "\n",
    "    return state\n",
    "\n",
    "\n"
   ]
  },
  {
   "attachments": {},
   "cell_type": "markdown",
   "metadata": {},
   "source": [
    "appell de la fonction"
   ]
  },
  {
   "cell_type": "code",
   "execution_count": 21,
   "metadata": {},
   "outputs": [],
   "source": [
    "def matrix_to_bytes(matrix):\n",
    "    \"\"\"\n",
    "    Converts a 4x4 state matrix to a 16-byte string of characters.\n",
    "    \"\"\"\n",
    "    byte_str = b''\n",
    "    for j in range(4):\n",
    "        for i in range(4):\n",
    "            byte_str += bytes([matrix[i][j]])\n",
    "    return byte_str"
   ]
  },
  {
   "attachments": {},
   "cell_type": "markdown",
   "metadata": {},
   "source": [
    "Affichage "
   ]
  },
  {
   "cell_type": "code",
   "execution_count": 22,
   "metadata": {},
   "outputs": [
    {
     "name": "stdout",
     "output_type": "stream",
     "text": [
      "message origine : b'SOMETHING PLEASE!'\n",
      "cle initiale : ['0f', '15', '71', 'c9', '47', 'd9', 'e8', '59', '0c', 'b7', 'ad', 'd6', 'af', '7f', '67', '98']\n",
      "Message chiffre : b'TQ\\xdau}\\xe8Y\\x04\\xa2W\\xc7\\x87\\x968\\xb0\\xec'\n",
      "Message Dechiffre : b'SOMETHING PLEASE'\n"
     ]
    }
   ],
   "source": [
    "# Sample message and key as 16-byte string of characters\n",
    "message = b'SOMETHING PLEASE!'\n",
    "# key = b'1234567890123456'\n",
    "\n",
    "# Convert the message and key to a state matrix\n",
    "state = bytes_to_matrix(message)\n",
    "# key_matrix = bytes_to_matrix(key)\n",
    "\n",
    "# Encrypt the message using AES encryption algorithm\n",
    "#key = [0x2b, 0x7e, 0x15, 0x16, 0x28, 0xae, 0xd2, 0xa6, 0xab, 0xf7, 0x15, 0x88, 0x09, 0xcf, 0x4f, 0x3c]\n",
    "key = [\"0f\", \"15\", \"71\", \"c9\", \"47\", \"d9\", \"e8\", \"59\", \"0c\", \"b7\", \"ad\", \"d6\", \"af\", \"7f\", \"67\", \"98\"]\n",
    "encrypted_state = aes_encrypt(state, key)\n",
    "\n",
    "# Convert the encrypted state matrix to a byte string\n",
    "encrypted_message = matrix_to_bytes(encrypted_state)\n",
    "decrypted_state = aes_decrypt(encrypted_state, key)\n",
    "decrypted_message = matrix_to_bytes(decrypted_state)\n",
    "\n",
    "# Print the encrypted message\n",
    "print(f\"message origine : {message}\")\n",
    "print(f\"cle initiale : {key}\")\n",
    "print(f\"Message chiffre : {encrypted_message}\")\n",
    "print(f\"Message Dechiffre : {decrypted_message}\")"
   ]
  },
  {
   "attachments": {},
   "cell_type": "markdown",
   "metadata": {},
   "source": [
    "Application militaire"
   ]
  },
  {
   "cell_type": "code",
   "execution_count": 23,
   "metadata": {},
   "outputs": [
    {
     "name": "stdout",
     "output_type": "stream",
     "text": [
      "La clé est: sdfghjkmnbvcxzsa\n",
      "la clé généré: ['73', '64', '66', '67', '68', '6a', '6b', '6d', '6e', '62', '76', '63', '78', '7a', '73', '61']\n",
      "Message origine : #message=\"أعلنت إدارة شؤون الإعلام والاتصالات بوزارة الدفاع الروسية، في بيان، أن الوزارة نشرت على موقعها الرسمي وثائق أرشيفية عن تاريخ الطيران العسكري الروسي ومآثر الطيارين العسكريين خلال الحرب الوطنية العظمى (الحرب العالمية الثانية).\"       \n",
      "message chiffré:  \u001b[TÇÏAH°üÃ¦\u0016ª\u0010+Ûüþg=Bí¢vºo²¤Ñ\"atºL\u0011V:b?1nA>\u000bß\u0005Æ<y\u0004¥yBé÷9\u000fÓ¤«Û¤Ñ$Ík£Hõ J.·~ÒÀí\u0007xð®·'Ôc*\u0014Ó¹Å)²Rr\u0003ÄÇ'ét[Õë\u0015 ¶âP/úcJ9\u0005\"8\u001a,.Rh¡Ybpäù®r¦ó¦?ð!õ´ôÀÈíæc \u0003ù·Ìýbðâ\u0013MÛôòÈ¯ÞB.cô¯¾\u0001x¶ò8¶M$ñL28t2-1*!ÂM +; ²ªªI¨  ý\u00100-nqæ*Õ[b]+ô?¥ÐØ#¦  \f\u0005ÚÀ¤Ù\u0003Z\u0003RÏËÎKR])|:lÖ\u0017ò¬D\u0010&7Í®ÐÍÃä\u0003`\u0012\u001cªGVE\"jûM¯ô\u0019-kJ²8if(\u0010¬èðß¤\u0016 º\u000b\u0002é\u0001\u0015=z;$-üsÉ\u0005{ÐZ*oÅùðÛA1>®|Ü<Ü9wf³\fª¼7=O JaÍdµqã\u0010á\\ÙÖF\u0006ÝéåMþE[°ìþ Ë¹\u000eT\u001cå&püÅ\n",
      "Message déchiffré  : #message=\"أعلنت إدارة شؤون الإعلام والاتصالات بوزارة الدفاع الروسية، في بيان، أن الوزارة نشرت على موقعها الرسمي وثائق أرشيفية عن تاريخ الطيران العسكري الروسي ومآثر الطيارين العسكريين خلال الحرب الوطنية العظمى (الحرب العالمية الثانية).\"       \n"
     ]
    },
    {
     "name": "stderr",
     "output_type": "stream",
     "text": [
      "C:\\Users\\MAHFOUD\\AppData\\Local\\Temp\\ipykernel_11020\\3828597175.py:60: DeprecationWarning: invalid escape sequence '\\Ù'\n",
      "  output_string = input_string.decode('unicode_escape')\n"
     ]
    }
   ],
   "source": [
    "#message = b\"Ordre militaire 1 : preparer l'equipe pour l'attque de l'algerie !,Ordre militaire 0 : j'aime pas les fautes !!\"\n",
    "#message=b\"j'aime pas les fautes\"\n",
    "#message=\"أعلنت إدارة شؤون الإعلام والاتصالات بوزارة الدفاع الروسية، في بيان، أن الوزارة نشرت على موقعها الرسمي وثائق أرشيفية عن تاريخ الطيران العسكري الروسي ومآثر الطيارين العسكريين خلال الحرب الوطنية العظمى (الحرب العالمية الثانية).\"\n",
    "# Demander à l'utilisateur de saisir un message\n",
    "message = input(\"Entrez votre message: \")\n",
    "\n",
    "\n",
    "\n",
    "# Convertir la chaîne de caractères en une chaîne de caractères codée en octets\n",
    "message = message.encode()\n",
    "partition_size = 16\n",
    "\n",
    "# Ajouter des octets de remplissage s'il y a lieu\n",
    "padding = b\" \" * (partition_size - len(message) % partition_size)\n",
    "message += padding\n",
    "\n",
    "# Diviser le message en partitions de taille 16 octets\n",
    "partitions = [message[i:i+partition_size] for i in range(0, len(message), partition_size)]\n",
    "\n",
    "\n",
    "#KEY INPUT:\n",
    "\n",
    "while True:\n",
    "    word = input(\"Please enter a 16-bit word: \")\n",
    "    if len(word) == 16:\n",
    "        break\n",
    "    else:\n",
    "        print(\"Invalid input. Please try again.\")\n",
    "\n",
    "print(\"La clé est:\", word)\n",
    "\n",
    "def generate_key(word):\n",
    "    key = []\n",
    "    for i in range(len(word)):\n",
    "        key.append(format(ord(word[i]), 'x'))\n",
    "    return key\n",
    "\n",
    "key=generate_key(word)\n",
    "print(\"la clé généré:\",key)\n",
    "# Appliquer une opération à chaque partition\n",
    "msg_encrypt=b''\n",
    "msg_decrypt=b''\n",
    "for partition in partitions:\n",
    "    # Faire quelque chose avec la partition\n",
    "    #print(partition)\n",
    "    state = bytes_to_matrix(partition)\n",
    "    # key_matrix = bytes_to_matrix(key)\n",
    "    # Encrypt the message using AES encryption algorithm\n",
    "    #key = [0x2b, 0x7e, 0x15, 0x16, 0x28, 0xae, 0xd2, 0xa6, 0xab, 0xf7, 0x15, 0x88, 0x09, 0xcf, 0x4f, 0x3c]\n",
    "    encrypted_state = aes_encrypt(state, key)\n",
    "    # Convert the encrypted state matrix to a byte string\n",
    "    encrypted_message = matrix_to_bytes(encrypted_state)\n",
    "    msg_encrypt=msg_encrypt+encrypted_message\n",
    "    decrypted_state = aes_decrypt(encrypted_state, key)\n",
    "    decrypted_message = matrix_to_bytes(decrypted_state)\n",
    "    msg_decrypt+=decrypted_message\n",
    "\n",
    "print(f\"Message origine : {message.decode()}\")\n",
    "def show_encrypt(input_string):\n",
    "    output_string = input_string.decode('unicode_escape')\n",
    "    # Replace non-printable characters with a space\n",
    "    output_string = output_string.replace('\\r', ' ').replace('\\n', ' ').replace('\\t', ' ')\n",
    "    print(\"message chiffré: \",output_string.strip(\"b'\").strip('\"'))\n",
    "show_encrypt(msg_encrypt)\n",
    "print(f\"Message déchiffré  : {msg_decrypt.decode()}\")\n",
    "\n"
   ]
  }
 ],
 "metadata": {
  "kernelspec": {
   "display_name": "Python 3",
   "language": "python",
   "name": "python3"
  },
  "language_info": {
   "codemirror_mode": {
    "name": "ipython",
    "version": 3
   },
   "file_extension": ".py",
   "mimetype": "text/x-python",
   "name": "python",
   "nbconvert_exporter": "python",
   "pygments_lexer": "ipython3",
   "version": "3.10.7"
  },
  "orig_nbformat": 4
 },
 "nbformat": 4,
 "nbformat_minor": 2
}
